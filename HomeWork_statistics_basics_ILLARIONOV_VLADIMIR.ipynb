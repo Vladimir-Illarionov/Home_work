{
 "cells": [
  {
   "cell_type": "code",
   "execution_count": 129,
   "metadata": {},
   "outputs": [
    {
     "name": "stdout",
     "output_type": "stream",
     "text": [
      "                           Количество пропусков\n",
      "делали ли операцию                            1\n",
      "возраст                                       0\n",
      "ректальная температура                       60\n",
      "пульс                                        24\n",
      "частота дыхания                              58\n",
      "вздутие живота                               56\n",
      "исход                                         1\n",
      "хирургическое повреждение                     0\n",
      "       ректальная температура       пульс  частота дыхания\n",
      "count              243.000000  243.000000       243.000000\n",
      "mean                38.176907   72.286813        30.144849\n",
      "std                  0.648443   26.934350        15.051278\n",
      "min                 36.100000   36.000000         8.000000\n",
      "25%                 37.850000   50.000000        20.000000\n",
      "50%                 38.167917   68.000000        30.000000\n",
      "75%                 38.500000   88.000000        35.500000\n",
      "max                 40.800000  184.000000        90.000000\n",
      " Нормальная температура лошади 37.8 С\n",
      " Средняя ректальная температура выше нормы на 0.37690672153635063 градусов\n",
      " 25% процентов лошадей имеют температуру ниже нормального\n"
     ]
    },
    {
     "data": {
      "image/png": "[encoded data removed]",
      "text/plain": [
       "<Figure size 936x432 with 1 Axes>"
      ]
     },
     "metadata": {
      "needs_background": "light"
     },
     "output_type": "display_data"
    },
    {
     "data": {
      "image/png": "[encoded data removed]",
      "text/plain": [
       "<Figure size 936x432 with 1 Axes>"
      ]
     },
     "metadata": {
      "needs_background": "light"
     },
     "output_type": "display_data"
    },
    {
     "data": {
      "image/png": "[encoded data removed]",
      "text/plain": [
       "<Figure size 936x432 with 1 Axes>"
      ]
     },
     "metadata": {
      "needs_background": "light"
     },
     "output_type": "display_data"
    },
    {
     "name": "stdout",
     "output_type": "stream",
     "text": [
      "Значения выбросов ректальной температуры, частоты дыхания и пульса являются реальными, поэтому их не удаляем.\n",
      "делали ли операцию  исход      \n",
      "да                  был усыплен    11.971831\n",
      "                    жил            55.633803\n",
      "                    умер           32.394366\n",
      "dtype: float64\n",
      "делали ли операцию  исход      \n",
      "нет                 был усыплен    15.841584\n",
      "                    жил            67.326733\n",
      "                    умер           16.831683\n",
      "dtype: float64\n",
      "Смертность после операции составляет 44 процента\n"
     ]
    }
   ],
   "source": [
    "import requests\n",
    "import re\n",
    "import pandas as pd\n",
    "import numpy as np\n",
    "import matplotlib.pyplot as plt\n",
    "\n",
    "#увеличим дефолтный размер графиков\n",
    "from pylab import rcParams\n",
    "rcParams['figure.figsize'] = 13,6\n",
    "\n",
    "response = requests.get('https://raw.githubusercontent.com/obulygin/pyda_homeworks/master/statistics_basics/horse_data.csv')\n",
    "reec = re.split(r'\\n', response.text)\n",
    "list_rec = []\n",
    "\n",
    "for rec in reec:\n",
    "    list_rec.append(re.split(r',', rec))\n",
    "df = pd.DataFrame(list_rec)\n",
    "\n",
    "# дадим названия столбцам\n",
    "df.columns= [\"делали ли операцию\",\"возраст\",\"Hospital Number\",\"ректальная температура\",\"пульс\",\"частота дыхания\",\n",
    "             \"temperature_of_extremities\",\"peripheral pulse\",\"mucous membranes\",\"capillary refill time\",\"pain\",\"peristalsis\",\n",
    "             \"вздутие живота\",\"nasogastric tube\",\"nasogastric reflux\",\"nasogastric reflux PH\",\n",
    "             \"rectal examination\",\"abdomen\",\"packed cell volume\",\"total protein\",\"abdominocentesis appearance\",\n",
    "             \"abdomcentesis total protein\",\"исход\",\"хирургическое повреждение\",\"5\",\"6\",\"7\",\"8\"]\n",
    "\n",
    "# выберем 8 столбцов\n",
    "df = df[[\"делали ли операцию\",\"возраст\",\"ректальная температура\",\"пульс\", \"частота дыхания\",\"вздутие живота\",\"исход\",\n",
    "         \"хирургическое повреждение\"]]\n",
    "df=df.replace('?', np.NaN)\n",
    "df= df.astype('float64')\n",
    "\n",
    "def replace_(datafr,**kwargs):\n",
    "    for key, val in kwargs.items():\n",
    "        if datafr in kwargs[key].keys():\n",
    "            return kwargs[key][datafr]\n",
    "    return np.NaN\n",
    "\n",
    "\n",
    "df[\"делали ли операцию\"] = df[\"делали ли операцию\"].apply(replace_, kwargs= {1:\"да\", 2:\"нет\"})\n",
    "df[\"исход\"] = df[\"исход\"].apply(replace_, kwargs= {1:\"жил\", 2:\"умер\", 3:\"был усыплен\"}) \n",
    "df[\"хирургическое повреждение\"] = df[\"хирургическое повреждение\"].apply(replace_, kwargs= {1:\"да\", 2:\"нет\"}) \n",
    "df[\"вздутие живота\"] = df[\"вздутие живота\"].apply(replace_, kwargs= {1:\"нет\", 2:\"незначительно\",3: \"умеренный\",4: \"тяжелый\"}) \n",
    "df[\"возраст\"] = df[\"возраст\"].apply(replace_, kwargs= {1:\"взрослая\", 9:\"меньше 6 месяцев\"})\n",
    "\n",
    "# Посчитаем количесвто пропусков в каждом столбце\n",
    "number_NaN = len(df) - df.count()\n",
    "number_NaN = number_NaN.to_frame()\n",
    "number_NaN.columns = [\"Количество пропусков\"]\n",
    "print(number_NaN)\n",
    "\n",
    "# Заменим пропуски в столбцах (ректальная температура, пульс и чаcтота дыхания) их средними значениями\n",
    "df[\"ректальная температура\"].fillna(df[\"ректальная температура\"].mean(), inplace = True)\n",
    "df[\"пульс\"].fillna(df[\"пульс\"].mean(), inplace = True)\n",
    "df[\"частота дыхания\"].fillna(df[\"частота дыхания\"].mean(), inplace = True)\n",
    "\n",
    "# в столбце вздутие живота 56 пропусков, удалим строки с этими пропусками\n",
    "# также удалим строки с пропусками в остальных столбцах\n",
    "df = df.dropna()\n",
    "\n",
    "# посчитаем базовые метрики для числовых данных (ректальная температура, пульс и чаcтота дыхания)\n",
    "print(df.describe())\n",
    "# Сравним среднюю ректальную температуру с нормальной температурой \n",
    "print(\" Нормальная температура лошади 37.8 С\\n\",\n",
    "      \"Средняя ректальная температура выше нормы на\", (df[\"ректальная температура\"].mean()-37.8), \"градусов\\n\",\n",
    "      \"25% процентов лошадей имеют температуру ниже нормального\")\n",
    "\n",
    "# Нарисуем графики box для ректальной температуры, пульса и чаcтоты дыхания\n",
    "df[\"ректальная температура\"].plot(kind='box')\n",
    "plt.show()\n",
    "\n",
    "df[\"пульс\"].plot(kind='box')\n",
    "plt.show()\n",
    "\n",
    "df[\"частота дыхания\"].plot(kind='box')\n",
    "plt.show()\n",
    "\n",
    "print(\"Значения выбросов ректальной температуры, частоты дыхания и пульса являются реальными, поэтому их не удаляем.\")\n",
    "\n",
    "df_with_op = df[df[\"делали ли операцию\"] == \"да\"]\n",
    "\n",
    "df_without = df[df[\"делали ли операцию\"] == \"нет\"]\n",
    "\n",
    "# Проверим какой исход был после операции\n",
    "print(df_with_op.groupby([\"делали ли операцию\", \"исход\"]).size() / len(df_with_op)*100)\n",
    "print(df_without.groupby([\"делали ли операцию\", \"исход\"]).size() / len(df_without)*100)\n",
    "print('Смертность после операции составляет 44 процента')"
   ]
  },
  {
   "cell_type": "code",
   "execution_count": null,
   "metadata": {},
   "outputs": [],
   "source": []
  },
  {
   "cell_type": "code",
   "execution_count": null,
   "metadata": {},
   "outputs": [],
   "source": []
  }
 ],
 "metadata": {
  "kernelspec": {
   "display_name": "Python 3",
   "language": "python",
   "name": "python3"
  },
  "language_info": {
   "codemirror_mode": {
    "name": "ipython",
    "version": 3
   },
   "file_extension": ".py",
   "mimetype": "text/x-python",
   "name": "python",
   "nbconvert_exporter": "python",
   "pygments_lexer": "ipython3",
   "version": "3.8.5"
  }
 },
 "nbformat": 4,
 "nbformat_minor": 4
}
