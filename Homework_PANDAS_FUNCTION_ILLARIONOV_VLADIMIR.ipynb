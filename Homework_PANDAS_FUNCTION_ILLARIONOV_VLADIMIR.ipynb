{
 "cells": [
  {
   "cell_type": "code",
   "execution_count": 7,
   "metadata": {},
   "outputs": [
    {
     "name": "stdout",
     "output_type": "stream",
     "text": [
      "   userId  movieId  rating   timestamp            class\n",
      "0       1       31     2.5  1260759144  средний рейтинг\n",
      "1       1     1029     3.0  1260759179  средний рейтинг\n",
      "2       1     1061     3.0  1260759182  средний рейтинг\n",
      "3       1     1129     2.0  1260759185   низкий рейтинг\n",
      "4       1     1172     4.0  1260759205  средний рейтинг\n",
      "5       1     1263     2.0  1260759151   низкий рейтинг\n",
      "6       1     1287     2.0  1260759187   низкий рейтинг\n",
      "7       1     1293     2.0  1260759148   низкий рейтинг\n",
      "8       1     1339     3.5  1260759125  средний рейтинг\n",
      "9       1     1343     2.0  1260759131   низкий рейтинг\n"
     ]
    }
   ],
   "source": [
    "# ЗАДАНИЕ № 1\n",
    "\n",
    "import pandas as pd\n",
    "\n",
    "a = pd.read_csv(\"ratings.csv\")\n",
    "\n",
    "def definition_rating(rating):\n",
    "    if rating <= 2:\n",
    "        return \"низкий рейтинг\"\n",
    "    elif rating <= 4:\n",
    "        return \"средний рейтинг\"\n",
    "    elif 4.5 <= rating  <= 5:\n",
    "        return \"высокий рейтинг\"\n",
    "    else:\n",
    "        return \"рейтинг не определен\"\n",
    "\n",
    "a[\"class\"] = a[\"rating\"].apply(definition_rating)\n",
    "print(a.head(10))\n",
    "\n"
   ]
  },
  {
   "cell_type": "code",
   "execution_count": 2,
   "metadata": {},
   "outputs": [
    {
     "name": "stdout",
     "output_type": "stream",
     "text": [
      "                keyword  shows\n",
      "region                        \n",
      "undefined         99406  99406\n",
      "Дальний Восток       64     64\n",
      "Северо-Запад        146    146\n",
      "Центр               384    384\n"
     ]
    }
   ],
   "source": [
    "# ЗАДАНИЕ № 2\n",
    "\n",
    "keyword = pd.read_csv(\"keywords.csv\")\n",
    "\n",
    "geo_data = {'Центр': ['москва', 'тула', 'ярославль'], 'Северо-Запад': ['петербург', 'псков', 'мурманск'], \n",
    "            'Дальний Восток': ['владивосток', 'сахалин', 'хабаровск']}\n",
    "\n",
    "def geo_classifier(keywords, geo_dat):\n",
    "    '''\n",
    "    функция принимает dataframe с поисковыми запросами и словарь с правилом распределения по регионам\n",
    "    и возвращает регион города, который есть в поисковым запросе и в geo_data, если нет города то возвращает undefined\n",
    "    \n",
    "    '''\n",
    "    for region, city_spis in geo_dat.items():\n",
    "        for city in city_spis:\n",
    "            if city in keywords.split(\" \"):\n",
    "                return region\n",
    "    return \"undefined\"\n",
    "\n",
    "# применим функцию geo_classifier к кажой строке столбца keyword и запишем резульат в столбец region\n",
    "keyword[\"region\"] = keyword[\"keyword\"].apply(geo_classifier, geo_dat=geo_data)\n",
    "\n",
    "print(keyword.groupby(\"region\").count())\n"
   ]
  },
  {
   "cell_type": "code",
   "execution_count": 9,
   "metadata": {},
   "outputs": [
    {
     "name": "stdout",
     "output_type": "stream",
     "text": [
      "         rating\n",
      "years          \n",
      "1951   3.906653\n",
      "1952   3.802318\n",
      "1962   3.772962\n",
      "1953   3.738878\n",
      "1957   3.693322\n",
      "1973   3.688212\n",
      "1971   3.643227\n",
      "1969   3.604509\n",
      "1972   3.585295\n",
      "1958   3.571956\n",
      "1977   3.561309\n",
      "1970   3.559196\n",
      "1976   3.555585\n",
      "1964   3.541368\n",
      "1960   3.521093\n",
      "1965   3.517831\n",
      "1954   3.499630\n",
      "1955   3.494027\n",
      "1978   3.480250\n",
      "1963   3.476131\n"
     ]
    }
   ],
   "source": [
    "# ЗАДАНИЕ № 3\n",
    "\n",
    "data_ratings = pd.read_csv('ratings.csv')\n",
    "\n",
    "data_movies = pd.read_csv('movies.csv')\n",
    "\n",
    "# создадим список со всеми годами с 1950 по 2010\n",
    "years = [x for x in range(1950,2011,1)]\n",
    "\n",
    "def production_year(data_movi, spis_years):\n",
    "    '''\n",
    "    функция принимает на вход строку и список с годами и возвращает год который есть в строке и в списке,\n",
    "    \n",
    "    если нет такого года то возвращает 1900\n",
    "    '''\n",
    "    for year in spis_years:\n",
    "        if str(year) in data_movi.replace(\")\",\"\").replace(\"(\",\"\").split(\" \"):\n",
    "            return str(year)\n",
    "    return \"1900\"\n",
    "\n",
    "# применим функцию production_year к кажой строке столбца title и запишем резульат в столбец years\n",
    "data_movies[\"years\"] = data_movies[\"title\"].apply(production_year, spis_years = years)    \n",
    "    \n",
    "          \n",
    "def average_rating(data_rat):\n",
    "    '''\n",
    "    функция считает средний рейтинг фильма\n",
    "    \n",
    "    '''\n",
    "    return data_rat[\"rating\"].sum()/data_rat[\"rating\"].count()\n",
    "      \n",
    "    \n",
    "# посчитаем средний рейтинг каждого фильма\n",
    "average_rating_film = pd.DataFrame(data_ratings.groupby(\"movieId\").apply(average_rating))\n",
    "  \n",
    "# обЪединим data_movies с average_rating_film по индексам movieId   \n",
    "data_movies = data_movies.set_index('movieId')[[\"title\", \"years\"]].join(average_rating_film)\n",
    "\n",
    "# столбец с рейтингами назовем rating\n",
    "data_movies.rename(columns = {0:'rating'}, inplace = True)\n",
    "\n",
    "def average_rating_film(data_movies):\n",
    "    '''\n",
    "    функция считает средний рейтинг фильмов по годам\n",
    "    \n",
    "    '''\n",
    "    return data_movies[\"rating\"].sum()/data_movies[\"rating\"].count()\n",
    "\n",
    "# посчитаем средний рейтинг фильмов по годам\n",
    "average_rating_film_years = pd.DataFrame(data_movies.groupby(\"years\").apply(average_rating_film))\n",
    "\n",
    "# столбец с рейтингами назовем rating\n",
    "average_rating_film_years.rename(columns = {0:'rating'}, inplace = True)\n",
    "\n",
    "# отсортируем по убыванию рейтинга\n",
    "average_rating_film_years.sort_values('rating',inplace = True, ascending=False)\n",
    "\n",
    "print(average_rating_film_years.head(20))\n",
    "\n"
   ]
  },
  {
   "cell_type": "code",
   "execution_count": null,
   "metadata": {},
   "outputs": [],
   "source": []
  }
 ],
 "metadata": {
  "kernelspec": {
   "display_name": "Python 3",
   "language": "python",
   "name": "python3"
  },
  "language_info": {
   "codemirror_mode": {
    "name": "ipython",
    "version": 3
   },
   "file_extension": ".py",
   "mimetype": "text/x-python",
   "name": "python",
   "nbconvert_exporter": "python",
   "pygments_lexer": "ipython3",
   "version": "3.8.5"
  }
 },
 "nbformat": 4,
 "nbformat_minor": 4
}
