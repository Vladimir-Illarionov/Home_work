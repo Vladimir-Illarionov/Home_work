{
 "cells": [
  {
   "cell_type": "code",
   "execution_count": 4,
   "metadata": {},
   "outputs": [
    {
     "name": "stdout",
     "output_type": "stream",
     "text": [
      "[14 13 12 11 10  9  8  7  6  5  4  3  2  1  0]\n"
     ]
    }
   ],
   "source": [
    "# ЗАДАНИЕ № 1\n",
    "import numpy as np\n",
    "\n",
    "N = 15\n",
    "numpy_array = np.arange(N-1,-1,-1)\n",
    "print(numpy_array)\n",
    "\n"
   ]
  },
  {
   "cell_type": "code",
   "execution_count": 6,
   "metadata": {},
   "outputs": [
    {
     "name": "stdout",
     "output_type": "stream",
     "text": [
      "[[9 0 0 0 0 0 0 0 0 0]\n",
      " [0 8 0 0 0 0 0 0 0 0]\n",
      " [0 0 7 0 0 0 0 0 0 0]\n",
      " [0 0 0 6 0 0 0 0 0 0]\n",
      " [0 0 0 0 5 0 0 0 0 0]\n",
      " [0 0 0 0 0 4 0 0 0 0]\n",
      " [0 0 0 0 0 0 3 0 0 0]\n",
      " [0 0 0 0 0 0 0 2 0 0]\n",
      " [0 0 0 0 0 0 0 0 1 0]\n",
      " [0 0 0 0 0 0 0 0 0 0]]\n",
      "Сумма значений на диагонали 45\n"
     ]
    }
   ],
   "source": [
    "# ЗАДАНИЕ № 2\n",
    "\n",
    "N = 10\n",
    "matr_diag = np.diag(np.arange(N-1, -1, -1), k=0)\n",
    "sum_diag = sum(sum(matr_diag))\n",
    "\n",
    "print(matr_diag)\n",
    "print(\"Сумма значений на диагонали\", sum_diag)"
   ]
  },
  {
   "cell_type": "code",
   "execution_count": 7,
   "metadata": {},
   "outputs": [
    {
     "name": "stdout",
     "output_type": "stream",
     "text": [
      "[ 0.46666667  3.84444444 -5.55555556]\n",
      "Решение правильное\n"
     ]
    }
   ],
   "source": [
    "# ЗАДАНИЕ № 3\n",
    "\n",
    "from numpy import linalg\n",
    "\n",
    "left_side = np.array([[4,2,1],[1,3,0],[0,5,4]])\n",
    "right_side = np.array([4,12,-3])\n",
    "\n",
    "# найдем корни и выведем на экран\n",
    "roots_of_equation = linalg.solve(left_side, right_side)\n",
    "print(roots_of_equation)\n",
    "\n",
    "# проверим решение\n",
    "if np.allclose(np.dot(left_side, roots_of_equation), np.float64(right_side)):\n",
    "    print(\"Решение правильное\")\n",
    "else:\n",
    "    print(\"Решение неправильное\")"
   ]
  },
  {
   "cell_type": "code",
   "execution_count": 15,
   "metadata": {},
   "outputs": [
    {
     "name": "stdout",
     "output_type": "stream",
     "text": [
      "Самый похожий пользователь user_ID = 8 , косинус угла равен = 0.9486832980505138\n"
     ]
    }
   ],
   "source": [
    "# ЗАДАНИЕ № 4\n",
    "\n",
    "users_stats = np.array(\n",
    "    [\n",
    "        [2, 1, 0, 0, 0, 0],\n",
    "        [1, 1, 2, 1, 0, 0],\n",
    "        [2, 0, 1, 0, 0, 0],\n",
    "        [1, 1, 2, 1, 0, 1],\n",
    "        [0, 0, 1, 2, 0, 0],\n",
    "        [0, 0, 0, 0, 0, 5],\n",
    "        [1, 0, 0, 0, 0, 0],\n",
    "        [0, 1, 1, 0, 0, 0],\n",
    "        [0, 0, 0, 1, 1, 3],\n",
    "        [1, 0, 0, 2, 1, 4]\n",
    "    ], \n",
    "    np.int32\n",
    ")\n",
    "\n",
    "next_user_stats = np.array([0, 1, 2, 0, 0, 0])\n",
    "\n",
    "\n",
    "def cosine( a, b ):\n",
    "    \"\"\"\n",
    "    Подсчет косинуса угла между векторами a, b по их координатам\n",
    "    \"\"\"\n",
    "    \n",
    "    # длины векторов\n",
    "    aLength = np.linalg.norm( a )\n",
    "    bLength = np.linalg.norm( b )\n",
    "    \n",
    "    return np.dot( a, b ) / ( aLength * bLength )\n",
    "\n",
    "# переменная для хранения косинуса угла\n",
    "max_cosine = 0\n",
    "# переменная для хранения user_ID\n",
    "user_ID = 0\n",
    "\n",
    "# пройдемся циклом по user_ID и найдем user_ID с максимальным значением косинуса угла\n",
    "for num_str in range(0, users_stats.shape[0], 1):\n",
    "    if max_cosine <= cosine(users_stats[num_str], next_user_stats):\n",
    "        max_cosine = cosine(users_stats[num_str], next_user_stats) \n",
    "        user_ID = num_str +1\n",
    "        \n",
    "print(\"Самый похожий пользователь user_ID =\", user_ID,\",\", \"косинус угла равен =\", max_cosine)\n",
    "\n",
    "\n",
    "\n"
   ]
  },
  {
   "cell_type": "code",
   "execution_count": null,
   "metadata": {},
   "outputs": [],
   "source": []
  }
 ],
 "metadata": {
  "kernelspec": {
   "display_name": "Python 3",
   "language": "python",
   "name": "python3"
  },
  "language_info": {
   "codemirror_mode": {
    "name": "ipython",
    "version": 3
   },
   "file_extension": ".py",
   "mimetype": "text/x-python",
   "name": "python",
   "nbconvert_exporter": "python",
   "pygments_lexer": "ipython3",
   "version": "3.8.5"
  }
 },
 "nbformat": 4,
 "nbformat_minor": 4
}
