{
 "cells": [
  {
   "cell_type": "code",
   "execution_count": 403,
   "metadata": {},
   "outputs": [
    {
     "name": "stdout",
     "output_type": "stream",
     "text": [
      "Смоделированная вероятность 0.79\n",
      "Теоретическая вероятность 0.8\n",
      "Игра невыгодна игроку, в среднем игрок за одну игру теряет 0.2 руб\n"
     ]
    }
   ],
   "source": [
    "import numpy as np\n",
    "\n",
    "trials = 1000000 # количество попыток\n",
    "number_wins = 0 # количесвто выигранных денег\n",
    "price_attempt = 1 # стоимость одной игры\n",
    "\n",
    "for i in range(trials):\n",
    "    random_number = np.random.randint(0,1000)\n",
    "    if random_number == 777:\n",
    "        number_wins += 200\n",
    "    elif random_number == 999:\n",
    "        number_wins += 100\n",
    "    elif random_number == 555:\n",
    "        number_wins += 50\n",
    "    elif random_number == 333:\n",
    "        number_wins += 15\n",
    "    elif random_number == 111:\n",
    "        number_wins += 10\n",
    "    elif random_number % 100 == 77:\n",
    "        number_wins += 5\n",
    "    elif random_number % 10 == 7:\n",
    "        number_wins += 3  \n",
    "    elif random_number % 100 == 0:\n",
    "        number_wins += 2\n",
    "    elif random_number % 10 == 0:\n",
    "        number_wins += 1        \n",
    "        \n",
    "#print(\"Вложения =\", price_attempt*trials)\n",
    "#print(\"Выигрыш =\", number_wins)\n",
    "print(\"Смоделированная вероятность\",round(number_wins/(price_attempt*trials), 2))\n",
    "\n",
    "theoret_probability = 200*0.001 + 100*0.001 + 50*0.001 + 15*0.001 + 10*0.001  + 5*(9/1000) + 3*(90/1000) + 2*0.01 + 1*(90/1000)\n",
    "print(\"Теоретическая вероятность\" , theoret_probability)\n",
    "\n",
    "print(\"Игра невыгодна игроку, в среднем игрок за одну игру теряет\", round(price_attempt*(1-theoret_probability),2), \"руб\")\n",
    "\n"
   ]
  },
  {
   "cell_type": "code",
   "execution_count": null,
   "metadata": {},
   "outputs": [],
   "source": []
  }
 ],
 "metadata": {
  "kernelspec": {
   "display_name": "Python 3",
   "language": "python",
   "name": "python3"
  },
  "language_info": {
   "codemirror_mode": {
    "name": "ipython",
    "version": 3
   },
   "file_extension": ".py",
   "mimetype": "text/x-python",
   "name": "python",
   "nbconvert_exporter": "python",
   "pygments_lexer": "ipython3",
   "version": "3.8.5"
  }
 },
 "nbformat": 4,
 "nbformat_minor": 4
}
