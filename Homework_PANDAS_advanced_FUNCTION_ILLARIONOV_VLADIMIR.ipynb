{
 "cells": [
  {
   "cell_type": "code",
   "execution_count": 54,
   "metadata": {},
   "outputs": [
    {
     "name": "stdout",
     "output_type": "stream",
     "text": [
      "   region traffic_source source_type\n",
      "0  Russia         yandex     organic\n",
      "1  Russia         direct      direct\n",
      "2  Russia         yandex     organic\n",
      "3  Russia         yandex     organic\n",
      "4  Russia         yandex     organic\n",
      "5  Russia         yandex     organic\n",
      "6  Russia           paid        paid\n",
      "7  Russia         direct      direct\n",
      "8   China         direct      direct\n",
      "9  Russia          email          ad\n"
     ]
    }
   ],
   "source": [
    "# ЗАДАНИЕ № 1\n",
    "\n",
    "import pandas as pd\n",
    "\n",
    "log = pd.read_csv('visit_log.csv',sep=';')\n",
    "\n",
    "def fills_from_conditionfill(log_1):\n",
    "    '''\n",
    "    функция,\n",
    "    если источник traffic_source равен yandex или google, то возвращает organic,\n",
    "    для источников paid и email возвращает ad\n",
    "    для источников paid и email не из России возвращает other\n",
    "    при всех остальных условиях возвращает значение traffic_source\n",
    "    '''\n",
    "    if log_1[\"traffic_source\"] == \"yandex\" or log_1[\"traffic_source\"] == \"google\":\n",
    "        return \"organic\"\n",
    "    elif log_1[\"traffic_source\"] == \"paid \" or log_1[\"traffic_source\"] == \"email\" and log_1[\"region\"] == \"Russia\":\n",
    "        return \"ad\"\n",
    "    elif log_1[\"traffic_source\"] == \"paid \" or log_1[\"traffic_source\"] == \"email\":\n",
    "        return \"other\"\n",
    "    else:\n",
    "        return log_1[\"traffic_source\"]\n",
    "        \n",
    "log[\"source_type\"] =log.apply(fills_from_conditionfill, axis=1)\n",
    "\n",
    "print(log[[\"region\",\"traffic_source\",\"source_type\"]].head(10))"
   ]
  },
  {
   "cell_type": "code",
   "execution_count": 57,
   "metadata": {},
   "outputs": [
    {
     "name": "stdout",
     "output_type": "stream",
     "text": [
      "                                                  url\n",
      "3   /politics/36188461-s-marta-zhizn-rossiyan-susc...\n",
      "4   /world/36007585-tramp-pridumal-kak-reshit-ukra...\n",
      "5   /science/36157853-nasa-sobiraet-ekstrennuyu-pr...\n",
      "6   /video/36001498-poyavilis-pervye-podrobnosti-g...\n",
      "7   /world/36007585-tramp-pridumal-kak-reshit-ukra...\n",
      "..                                                ...\n",
      "88  /cis/35984145-kreml-prokommentiroval-soobschen...\n",
      "89  /video/36071019-olimpiyskie-obekty-rio-prevrat...\n",
      "90  /science/36151301-nazvano-posledstvie-zloupotr...\n",
      "91  /incidents/36027330-vospitatelnitsu-zatravili-...\n",
      "92  /world/36103095-dominikanskih-zhurnalistov-ubi...\n",
      "\n",
      "[84 rows x 1 columns]\n"
     ]
    }
   ],
   "source": [
    "# ЗАДАНИЕ № 2\n",
    "\n",
    "import re\n",
    "import warnings\n",
    "warnings.filterwarnings(\"ignore\", 'This pattern has match groups')\n",
    "\n",
    "log = pd.read_csv('URLs.txt',sep=';')\n",
    "log = log[log[\"url\"].str.contains(r'(/\\d{8}-)')]\n",
    "\n",
    "print(log)\n"
   ]
  },
  {
   "cell_type": "code",
   "execution_count": 58,
   "metadata": {},
   "outputs": [
    {
     "name": "stdout",
     "output_type": "stream",
     "text": [
      "Среднее время жизни пользователей, которые выставили более 100 оценок - 40080507.4496124\n"
     ]
    }
   ],
   "source": [
    "# ЗАДАНИЕ № 3\n",
    "\n",
    "ratings = pd.read_csv('ml-latest-small/ratings.csv')\n",
    "\n",
    "def diff_between_max_min(ratin):\n",
    "    '''\n",
    "    функция возвращает время жизни пользователей которые выставили более 100 оценок\n",
    "    \n",
    "    '''\n",
    "    if ratin.count()[\"rating\"] > 100:\n",
    "        return ratin[\"timestamp\"].max() - ratin[\"timestamp\"].min()\n",
    "\n",
    "\n",
    "ratings = ratings.groupby(\"userId\").apply(diff_between_max_min)\n",
    "\n",
    "print(\"Среднее время жизни пользователей, которые выставили более 100 оценок -\", ratings.mean())"
   ]
  },
  {
   "cell_type": "code",
   "execution_count": 59,
   "metadata": {},
   "outputs": [
    {
     "name": "stdout",
     "output_type": "stream",
     "text": [
      "           rzd_revenue  auto_revenue  air_revenue\n",
      "client_id                                        \n",
      "111             1093.0           NaN          NaN\n",
      "112             2810.0           NaN          NaN\n",
      "113            10283.0       57483.0          NaN\n",
      "114             5774.0          83.0          NaN\n",
      "115              981.0         912.0         81.0\n",
      "116                NaN        4834.0          4.0\n",
      "117                NaN          98.0         13.0\n",
      "118                NaN           NaN        173.0\n",
      "           rzd_revenue  auto_revenue  air_revenue          address\n",
      "client_id                                                         \n",
      "111             1093.0           NaN          NaN  Комсомольская 4\n",
      "112             2810.0           NaN          NaN   Энтузиастов 8а\n",
      "113            10283.0       57483.0          NaN  Левобережная 1а\n",
      "114             5774.0          83.0          NaN          Мира 14\n",
      "115              981.0         912.0         81.0        ЗЖБИиДК 1\n",
      "116                NaN        4834.0          4.0    Строителей 18\n",
      "117                NaN          98.0         13.0  Панфиловская 33\n",
      "118                NaN           NaN        173.0     Мастеркова 4\n"
     ]
    }
   ],
   "source": [
    "# ЗАДАНИЕ № 4\n",
    "\n",
    "rzd = pd.DataFrame(\n",
    "    {\n",
    "        'client_id': [111, 112, 113, 114, 115],\n",
    "        'rzd_revenue': [1093, 2810, 10283, 5774, 981]\n",
    "    }\n",
    ")\n",
    "\n",
    "auto = pd.DataFrame(\n",
    "    {\n",
    "        'client_id': [113, 114, 115, 116, 117],\n",
    "        'auto_revenue': [57483, 83, 912, 4834, 98]\n",
    "    }\n",
    ")\n",
    "\n",
    "air = pd.DataFrame(\n",
    "    {\n",
    "        'client_id': [115, 116, 117, 118],\n",
    "        'air_revenue': [81, 4, 13, 173]\n",
    "    }\n",
    ")\n",
    "\n",
    "client_base = pd.DataFrame(\n",
    "    {\n",
    "        'client_id': [111, 112, 113, 114, 115, 116, 117, 118],\n",
    "        'address': ['Комсомольская 4', 'Энтузиастов 8а', 'Левобережная 1а', 'Мира 14', 'ЗЖБИиДК 1', \n",
    "                    'Строителей 18', 'Панфиловская 33', 'Мастеркова 4']\n",
    "    }\n",
    ")\n",
    "\n",
    "# установим столбец client_id в качестве индекса\n",
    "rzd = rzd.set_index(\"client_id\")\n",
    "auto = auto.set_index(\"client_id\")\n",
    "air = air.set_index(\"client_id\")\n",
    "client_base = client_base.set_index(\"client_id\")\n",
    "\n",
    "# объединим rzd, auto и air, получив таблицу с тремя типами выручки для каждого client_id\n",
    "view_revenue = rzd.join(auto,how='outer').join(air,how='outer')\n",
    "print(view_revenue)\n",
    "\n",
    "# объединим view_revenue с client_base, получив таблицу по типам выручки с указанием адреса клиента\n",
    "view_revenue_with_address = view_revenue.join(client_base)\n",
    "print(view_revenue_with_address)\n",
    "\n"
   ]
  }
 ],
 "metadata": {
  "kernelspec": {
   "display_name": "Python 3",
   "language": "python",
   "name": "python3"
  },
  "language_info": {
   "codemirror_mode": {
    "name": "ipython",
    "version": 3
   },
   "file_extension": ".py",
   "mimetype": "text/x-python",
   "name": "python",
   "nbconvert_exporter": "python",
   "pygments_lexer": "ipython3",
   "version": "3.8.5"
  }
 },
 "nbformat": 4,
 "nbformat_minor": 4
}
