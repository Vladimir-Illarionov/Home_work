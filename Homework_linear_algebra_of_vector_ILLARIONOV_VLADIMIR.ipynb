{
 "cells": [
  {
   "cell_type": "code",
   "execution_count": 10,
   "id": "0f96e38b",
   "metadata": {},
   "outputs": [
    {
     "data": {
      "image/png": "[encoded data removed]",
      "text/plain": [
       "<Figure size 432x288 with 1 Axes>"
      ]
     },
     "metadata": {
      "needs_background": "light"
     },
     "output_type": "display_data"
    },
    {
     "name": "stdout",
     "output_type": "stream",
     "text": [
      "Угол между векторами x и y, alhpa = 90.0\n"
     ]
    }
   ],
   "source": [
    "import numpy as np \n",
    "import matplotlib.pyplot as plt\n",
    "\n",
    "# \n",
    "x = np.array([1,0])\n",
    "y = np.array([0,1])\n",
    "z = np.array([0,2])\n",
    "\n",
    "# сумма векторов x, y и z\n",
    "Sum_V = x + y + z\n",
    "\n",
    "# чертим вектора на графике\n",
    "ax = plt.axes()\n",
    "ax.arrow(0, 0, x[0], x[1], head_width=0.5, head_length=0.5, fc='blue', ec='black')\n",
    "ax.arrow(0, 0, y[0], y[1], head_width=0.5, head_length=0.5, fc='red', ec='black')\n",
    "ax.arrow(0, 0, z[0], z[1], head_width=0.5, head_length=0.5, fc='green', ec='black')\n",
    "ax.arrow(0, 0, Sum_V[0], Sum_V[1], head_width=0.5, head_length=0.5, fc='black', ec='black')\n",
    "\n",
    "plt.grid()\n",
    "plt.xlim(-3,4)\n",
    "plt.ylim(-3,4)\n",
    "\n",
    "plt.title('Vectors',fontsize=10)\n",
    "plt.show()\n",
    "\n",
    "# угол между векторами x и y\n",
    "ugol_x_y = np.arccos(np.dot(x,y)/(np.linalg.norm(x)*np.linalg.norm(y)))\n",
    "print(\"Угол между векторами x и y, alhpa =\", (180/np.pi)*ugol_x_y)\n",
    "\n"
   ]
  },
  {
   "cell_type": "code",
   "execution_count": null,
   "id": "2dd0fc3d",
   "metadata": {},
   "outputs": [],
   "source": []
  }
 ],
 "metadata": {
  "kernelspec": {
   "display_name": "Python 3",
   "language": "python",
   "name": "python3"
  },
  "language_info": {
   "codemirror_mode": {
    "name": "ipython",
    "version": 3
   },
   "file_extension": ".py",
   "mimetype": "text/x-python",
   "name": "python",
   "nbconvert_exporter": "python",
   "pygments_lexer": "ipython3",
   "version": "3.8.8"
  }
 },
 "nbformat": 4,
 "nbformat_minor": 5
}
