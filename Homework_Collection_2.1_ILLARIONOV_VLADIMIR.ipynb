{
 "cells": [
  {
   "cell_type": "code",
   "execution_count": 160,
   "metadata": {},
   "outputs": [
    {
     "name": "stdout",
     "output_type": "stream",
     "text": [
      "{98, 35, 15, 213, 54, 119}\n"
     ]
    }
   ],
   "source": [
    "# ЗАДАНИЕ № 1\n",
    "\n",
    "ids = {'user1': [213, 213, 213, 15, 213],\n",
    "'user2': [54, 54, 119, 119, 119],\n",
    "'user3': [213, 98, 98, 35]}\n",
    "\n",
    "# создадим пустой список для хранения гео меток всех пользователей\n",
    "spisok_geo = []\n",
    "\n",
    "# добавим в spisok_geo гео-метки всех пользователей\n",
    "for value in ids.values():\n",
    "    spisok_geo.extend(value)\n",
    "\n",
    "# создадим множество из списка spisok_geo и выведем на экран\n",
    "print(set(spisok_geo))\n"
   ]
  },
  {
   "cell_type": "code",
   "execution_count": 3,
   "metadata": {},
   "outputs": [
    {
     "name": "stdout",
     "output_type": "stream",
     "text": [
      "Поисковых запросов, содержащих 3 слов(а): 42.86 %\n",
      "Поисковых запросов, содержащих 2 слов(а): 42.86 %\n",
      "Поисковых запросов, содержащих 13 слов(а): 14.29 %\n"
     ]
    }
   ],
   "source": [
    "# ЗАДАНИЕ № 2\n",
    "\n",
    "queries = [\n",
    "\"смотреть сериалы онлайн\",\n",
    "\"новости спорта\",\n",
    "\"афиша кино\",\n",
    "\"курс доллара\",\n",
    "\"сериалы этим летом\",\n",
    "\"курс по питону\",\n",
    "\"сериалы про спорт  п п п п п п п п \",\n",
    "]\n",
    "\n",
    "dicter ={}\n",
    "for qu in queries:\n",
    "    if len(qu.split(\" \")) in dicter.keys():\n",
    "        dicter[len(qu.split(\" \"))] += 1\n",
    "    else:\n",
    "        dicter[len(qu.split(\" \"))] = 1\n",
    "\n",
    "for key, value in dicter.items():\n",
    "     print(\"Поисковых запросов, содержащих\", str(key), \"слов(а):\", float(\"{0:.2f}\".format(value/len(queries)*100)), \"%\")\n",
    "    "
   ]
  },
  {
   "cell_type": "code",
   "execution_count": 169,
   "metadata": {
    "scrolled": true
   },
   "outputs": [
    {
     "name": "stdout",
     "output_type": "stream",
     "text": [
      "{'adwords': {'ROI': 2.94, 'cost': 34, 'revenue': 35}, 'facebook': {'ROI': -6.36, 'cost': 110, 'revenue': 103}, 'twitter': {'ROI': -54.17, 'cost': 24, 'revenue': 11}, 'vk': {'ROI': 5.1, 'cost': 98, 'revenue': 103}, 'yandex': {'ROI': 16.99, 'cost': 153, 'revenue': 179}}\n"
     ]
    }
   ],
   "source": [
    "# ЗАДАНИЕ № 3\n",
    "\n",
    "results = {\n",
    "\"vk\": {\"revenue\": 103, \"cost\": 98},\n",
    "\"yandex\": {\"revenue\": 179, \"cost\": 153},\n",
    "\"facebook\": {\"revenue\": 103, \"cost\": 110},\n",
    "\"adwords\": {\"revenue\": 35, \"cost\": 34},\n",
    "\"twitter\": {\"revenue\": 11, \"cost\": 24},\n",
    "}\n",
    "\n",
    "\n",
    "def sort_dict_by_key(dictionary):\n",
    "    '''\n",
    "    Функция для сортировки словаря по ключам, на выходе дает отсортированный словарь\n",
    "    \n",
    "    '''\n",
    "    \n",
    "    sorted_keys = sorted(dictionary)\n",
    "    sort_results = {}\n",
    "    \n",
    "    for key in sorted_keys:\n",
    "        sort_results[key] = dictionary[key]  \n",
    "    return sort_results\n",
    "\n",
    "\n",
    "# добавим в значение словаря показатель ROI.\n",
    "for value in results.values():\n",
    "    value[\"ROI\"] = float(\"{0:.2f}\".format((value[\"revenue\"] / value[\"cost\"]-1)*100))\n",
    "       \n",
    "# отсортируем словарь results по ключам\n",
    "sort_results = sort_dict_by_key(results)\n",
    "\n",
    "# отсортируем значения словаря results, которые также являются словарями по ключам\n",
    "for key, value in sort_results.items():\n",
    "    sort_results[key] = sort_dict_by_key(value)\n",
    "    \n",
    "print(sort_results)\n",
    " \n",
    "\n",
    "\n"
   ]
  },
  {
   "cell_type": "code",
   "execution_count": 201,
   "metadata": {},
   "outputs": [
    {
     "name": "stdout",
     "output_type": "stream",
     "text": [
      "Результат: Максимальный объем продаж на рекламном канале: vk\n"
     ]
    }
   ],
   "source": [
    "# ЗАДАНИЕ № 4\n",
    "\n",
    "stats = {\"facebook\": 55, \"yandex\": 115, \"vk\": 120, \"google\": 99, \"email\": 42, \"ok\": 98}\n",
    "\n",
    "key_value = max(stats, key = stats.get)\n",
    "\n",
    "print(\"Результат: Максимальный объем продаж на рекламном канале:\", key_value)\n",
    "\n"
   ]
  },
  {
   "cell_type": "code",
   "execution_count": 6,
   "metadata": {},
   "outputs": [
    {
     "name": "stdout",
     "output_type": "stream",
     "text": [
      "{'2018-01-01': {'yandex': {'cpc': 100}}}\n"
     ]
    }
   ],
   "source": [
    "# ЗАДАНИЕ № 5 \n",
    "\n",
    "my_list = ['2018-01-01', 'yandex', 'cpc', 100]\n",
    "res = my_list[-1]            \n",
    "for el in reversed(my_list[:-1]):      \n",
    "  res = {el: res}\n",
    "print(res)\n",
    "\n"
   ]
  },
  {
   "cell_type": "code",
   "execution_count": 24,
   "metadata": {},
   "outputs": [
    {
     "name": "stdout",
     "output_type": "stream",
     "text": [
      "Сыр: 210 гр\n",
      "Томаты: 66 гр\n",
      "Огурцы: 60 гр\n",
      "Маслины: 30 гр\n",
      "Оливковое масло: 60 мл\n",
      "Салат: 30 гр\n",
      "Перец: 60 гр\n",
      "Колбаса: 90 гр\n",
      "Бекон: 90 гр\n",
      "Оливки: 30 гр\n",
      "Тесто: 300 гр\n",
      "Лимон: 3 шт\n",
      "Вода: 600 мл\n",
      "Сахар: 30 гр\n",
      "Лайм: 60 гр\n"
     ]
    }
   ],
   "source": [
    "# ЗАДАНИЕ № 6\n",
    "\n",
    "\n",
    "cook_book = {\n",
    "\"салат\": [\n",
    "{\"ingridient_name\": 'сыр', 'quantity': 50, 'measure': 'гр'},\n",
    "{\"ingridient_name\": 'томаты', 'quantity': 2, 'measure': 'шт'},\n",
    "{\"ingridient_name\": 'огурцы', 'quantity': 20, 'measure': 'гр'},\n",
    "{\"ingridient_name\": 'маслины', 'quantity': 10, 'measure': 'гр'},\n",
    "{\"ingridient_name\": 'оливковое масло', 'quantity': 20, 'measure': 'мл'},\n",
    "{\"ingridient_name\": 'салат', 'quantity': 10, 'measure': 'гр'},\n",
    "{\"ingridient_name\": 'перец', 'quantity': 20, 'measure': 'гр'}\n",
    "],\n",
    "\"пицца\": [\n",
    "{\"ingridient_name\": 'сыр', 'quantity': 20, 'measure': 'гр'},\n",
    "{\"ingridient_name\": 'колбаса', 'quantity': 30, 'measure': 'гр'},\n",
    "{\"ingridient_name\": 'бекон', 'quantity': 30, 'measure': 'гр'},\n",
    "{\"ingridient_name\": 'оливки', 'quantity': 10, 'measure': 'гр'},\n",
    "{\"ingridient_name\": 'томаты', 'quantity': 20, 'measure': 'гр'},\n",
    "{\"ingridient_name\": 'тесто', 'quantity': 100, 'measure': 'гр'},\n",
    "],\n",
    "\"лимонад\": [\n",
    "{\"ingridient_name\": 'лимон', 'quantity': 1, 'measure': 'шт'},\n",
    "{\"ingridient_name\": 'вода', 'quantity': 200, 'measure': 'мл'},\n",
    "{\"ingridient_name\": 'сахар', 'quantity': 10, 'measure': 'гр'},\n",
    "{\"ingridient_name\": 'лайм', 'quantity': 20, 'measure': 'гр'},\n",
    "\n",
    "]\n",
    "}\n",
    "\n",
    "# словарь для размерностей\n",
    "measure = {'гр': {'млгр': 0.001, 'гр': 1, 'кг': 1000}, 'мл': {'мл': 1, 'л':1000}, 'шт':{'шт':1}}\n",
    "\n",
    "\n",
    "# создадим пустой список для хранения всех словарей с ингридиентами\n",
    "ingrid = []\n",
    "\n",
    "# создадим пустой список для хранения уникальных ингридиентов\n",
    "ingrid_unik = []\n",
    "\n",
    "# создадим пустой список для хранения \n",
    "ingrid_spisok = []\n",
    "\n",
    "# заполним список для хранения всех словарей с ингридиентами\n",
    "for value in cook_book.values():\n",
    "    ingrid = ingrid + value\n",
    "    \n",
    "# заполним список для хранения уникальных ингридиентов\n",
    "for value in ingrid:\n",
    "    if value[\"ingridient_name\"] not in ingrid_unik:\n",
    "        ingrid_unik.append(value[\"ingridient_name\"])\n",
    "\n",
    "\n",
    "for val_un in ingrid_unik:\n",
    "    # переменная для хранения суммарного количества ингридиента\n",
    "    sum_quantity = 0\n",
    "    # переменная для хранения единицы измерения ингридиента \n",
    "    ed_izm = \"\"\n",
    "    \n",
    "    # цикл проходит по списку ингридиентов и выводит на экран ингридиент,суммарное количество ингридиента и единицу измерения\n",
    "    for val in ingrid:\n",
    "        if val['ingridient_name'] == val_un:\n",
    "            for dict_key, dict_val in measure.items():\n",
    "                if val['measure'] in dict_val:\n",
    "                    ed_izm = dict_key\n",
    "                    sum_quantity = sum_quantity + val['quantity']*dict_val[val['measure']]\n",
    "                    break\n",
    "            \n",
    "    print(val_un.capitalize(), \":\", \" \", 3*sum_quantity, \" \", ed_izm, sep=\"\")\n",
    "   \n"
   ]
  }
 ],
 "metadata": {
  "kernelspec": {
   "display_name": "Python 3",
   "language": "python",
   "name": "python3"
  },
  "language_info": {
   "codemirror_mode": {
    "name": "ipython",
    "version": 3
   },
   "file_extension": ".py",
   "mimetype": "text/x-python",
   "name": "python",
   "nbconvert_exporter": "python",
   "pygments_lexer": "ipython3",
   "version": "3.8.5"
  }
 },
 "nbformat": 4,
 "nbformat_minor": 4
}
