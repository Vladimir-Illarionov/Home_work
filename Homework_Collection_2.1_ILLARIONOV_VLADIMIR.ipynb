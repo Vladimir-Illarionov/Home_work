{
 "cells": [
  {
   "cell_type": "code",
   "execution_count": 160,
   "metadata": {},
   "outputs": [
    {
     "name": "stdout",
     "output_type": "stream",
     "text": [
      "{98, 35, 15, 213, 54, 119}\n"
     ]
    }
   ],
   "source": [
    "# ЗАДАНИЕ № 1\n",
    "\n",
    "ids = {'user1': [213, 213, 213, 15, 213],\n",
    "'user2': [54, 54, 119, 119, 119],\n",
    "'user3': [213, 98, 98, 35]}\n",
    "\n",
    "# создадим пустой список для хранения гео меток всех пользователей\n",
    "spisok_geo = []\n",
    "\n",
    "# добавим в spisok_geo гео-метки всех пользователей\n",
    "for value in ids.values():\n",
    "    spisok_geo.extend(value)\n",
    "\n",
    "# создадим множество из списка spisok_geo и выведем на экран\n",
    "print(set(spisok_geo))\n"
   ]
  },
  {
   "cell_type": "code",
   "execution_count": 165,
   "metadata": {},
   "outputs": [
    {
     "name": "stdout",
     "output_type": "stream",
     "text": [
      "Поисковых запросов, содержащих 2 слова: 42.86 %\n",
      "Поисковых запросов, содержащих 3 слова: 57.14 %\n"
     ]
    }
   ],
   "source": [
    "# ЗАДАНИЕ № 2\n",
    "\n",
    "queries = [\n",
    "\"смотреть сериалы онлайн\",\n",
    "\"новости спорта\",\n",
    "\"афиша кино\",\n",
    "\"курс доллара\",\n",
    "\"сериалы этим летом\",\n",
    "\"курс по питону\",\n",
    "\"сериалы про спорт\",\n",
    "]\n",
    "\n",
    "\n",
    "# общее количество запросов\n",
    "num_qu = len(queries)\n",
    "\n",
    "# переменная для хранения количества запросов, содержащих два слова\n",
    "number_len_two = 0\n",
    "\n",
    "# переменная для хранения количества запросов, содержащих три слова\n",
    "number_len_three = 0\n",
    "\n",
    "# переменная для хранения количества запросов, не содержащих два или три слова\n",
    "number_len_other = 0\n",
    "\n",
    "\n",
    "for request in queries:\n",
    "    # разбиваем строки списка на слова и если количество слов равно двум к number_len_two прибавляем единичку\n",
    "    if len(request.split(\" \")) == 2:\n",
    "        number_len_two += 1\n",
    "    # разбиваем строки списка на слова и если количество слов равно трем к number_len_three прибавляем единичку\n",
    "    elif len(request.split(\" \")) == 3:\n",
    "        number_len_three += 1\n",
    "    # если количество слов в запросе не равно двум или трем то к number_len_other прибавляем единичку\n",
    "    else:\n",
    "        number_len_other += 1\n",
    "        \n",
    "        \n",
    "print(\"Поисковых запросов, содержащих 2 слова:\", float(\"{0:.2f}\".format(number_len_two/num_qu*100)), \"%\")\n",
    "print(\"Поисковых запросов, содержащих 3 слова:\", float(\"{0:.2f}\".format(number_len_three/num_qu*100)), \"%\")\n",
    "\n"
   ]
  },
  {
   "cell_type": "code",
   "execution_count": 169,
   "metadata": {
    "scrolled": true
   },
   "outputs": [
    {
     "name": "stdout",
     "output_type": "stream",
     "text": [
      "{'adwords': {'ROI': 2.94, 'cost': 34, 'revenue': 35}, 'facebook': {'ROI': -6.36, 'cost': 110, 'revenue': 103}, 'twitter': {'ROI': -54.17, 'cost': 24, 'revenue': 11}, 'vk': {'ROI': 5.1, 'cost': 98, 'revenue': 103}, 'yandex': {'ROI': 16.99, 'cost': 153, 'revenue': 179}}\n"
     ]
    }
   ],
   "source": [
    "# ЗАДАНИЕ № 3\n",
    "\n",
    "results = {\n",
    "\"vk\": {\"revenue\": 103, \"cost\": 98},\n",
    "\"yandex\": {\"revenue\": 179, \"cost\": 153},\n",
    "\"facebook\": {\"revenue\": 103, \"cost\": 110},\n",
    "\"adwords\": {\"revenue\": 35, \"cost\": 34},\n",
    "\"twitter\": {\"revenue\": 11, \"cost\": 24},\n",
    "}\n",
    "\n",
    "\n",
    "def sort_dict_by_key(dictionary):\n",
    "    '''\n",
    "    Функция для сортировки словаря по ключам, на выходе дает отсортированный словарь\n",
    "    \n",
    "    '''\n",
    "    \n",
    "    sorted_keys = sorted(dictionary)\n",
    "    sort_results = {}\n",
    "    \n",
    "    for key in sorted_keys:\n",
    "        sort_results[key] = dictionary[key]  \n",
    "    return sort_results\n",
    "\n",
    "\n",
    "# добавим в значение словаря показатель ROI.\n",
    "for value in results.values():\n",
    "    value[\"ROI\"] = float(\"{0:.2f}\".format((value[\"revenue\"] / value[\"cost\"]-1)*100))\n",
    "       \n",
    "# отсортируем словарь results по ключам\n",
    "sort_results = sort_dict_by_key(results)\n",
    "\n",
    "# отсортируем значения словаря results, которые также являются словарями по ключам\n",
    "for key, value in sort_results.items():\n",
    "    sort_results[key] = sort_dict_by_key(value)\n",
    "    \n",
    "print(sort_results)\n",
    " \n",
    "\n",
    "\n"
   ]
  },
  {
   "cell_type": "code",
   "execution_count": 201,
   "metadata": {},
   "outputs": [
    {
     "name": "stdout",
     "output_type": "stream",
     "text": [
      "Результат: Максимальный объем продаж на рекламном канале: vk\n"
     ]
    }
   ],
   "source": [
    "# ЗАДАНИЕ № 4\n",
    "\n",
    "stats = {\"facebook\": 55, \"yandex\": 115, \"vk\": 120, \"google\": 99, \"email\": 42, \"ok\": 98}\n",
    "\n",
    "# # переменная для хранения максимального обьема продаж\n",
    "# max_value = 0\n",
    "# # переменная для хранения максимального обьема продаж\n",
    "# key_value = \"\"\n",
    "\n",
    "# for key, value in stats.items():\n",
    "#     if max_value < value:\n",
    "#         max_value = value\n",
    "#         key_value = key \n",
    "        \n",
    "# print(key_value, max_value)\n",
    "\n",
    "key_value = max(stats, key = stats.get)\n",
    "\n",
    "print(\"Результат: Максимальный объем продаж на рекламном канале:\", key_value)\n",
    "\n"
   ]
  },
  {
   "cell_type": "code",
   "execution_count": 178,
   "metadata": {},
   "outputs": [
    {
     "name": "stdout",
     "output_type": "stream",
     "text": [
      "{'2018-01-01': {'yandex': {'cpc': 100}}}\n"
     ]
    }
   ],
   "source": [
    "# ЗАДАНИЕ № 5 \n",
    "\n",
    "my_list = [\"2018-01-01\", \"yandex\", \"cpc\", 100,]\n",
    "\n",
    "# создадим словарь для сохранения вложенных словарей \n",
    "my_list_change = {}\n",
    "\n",
    "# создадим вспомогательный словарь и заполним его начальными значениями \n",
    "my_list_change1 = {my_list[len(my_list)-2] : my_list[len(my_list)-1]} \n",
    "\n",
    "\n",
    "for i in range(len(my_list)-3,-1,-1):\n",
    "    \n",
    "    # сохраним в словарь для сохранения вложенных словарей с ключом, равным значению элемента i списка my list,\n",
    "    # значение вспомогательного словаря \n",
    "    my_list_change[my_list[i]] =  my_list_change1\n",
    "    \n",
    "    # скопируем словарь вложенных словарей и сохраним его в переменную my_list_change1, при этот предыдущий словарь,\n",
    "    # на который ссылалась эта переменная удалится \n",
    "    my_list_change1 = my_list_change.copy()\n",
    "    \n",
    "    # пока цикл не дошел до нуля очищаем словарь для сохранения вложенных словарей ,\n",
    "    # это условие необходимо чтобы подчистить словарь для нового вложенного словаря и не очистить его в конце цикла\n",
    "    if i > 0:\n",
    "        my_list_change.clear()\n",
    "    \n",
    "print(my_list_change)\n",
    "\n"
   ]
  },
  {
   "cell_type": "code",
   "execution_count": 200,
   "metadata": {},
   "outputs": [
    {
     "name": "stdout",
     "output_type": "stream",
     "text": [
      "Сыр: 210 гр\n",
      "Томаты: 66 гр\n",
      "Огурцы: 60 гр\n",
      "Маслины: 30 гр\n",
      "Оливковое масло: 60 мл\n",
      "Салат: 30 гр\n",
      "Перец: 60 гр\n",
      "Колбаса: 90 гр\n",
      "Бекон: 90 гр\n",
      "Оливки: 30 гр\n",
      "Тесто: 300 гр\n",
      "Лимон: 3 шт\n",
      "Вода: 600 мл\n",
      "Сахар: 30 гр\n",
      "Лайм: 60 гр\n"
     ]
    }
   ],
   "source": [
    "# ЗАДАНИЕ № 6\n",
    "\n",
    "\n",
    "cook_book = {\n",
    "\"салат\": [\n",
    "{\"ingridient_name\": 'сыр', 'quantity': 50, 'measure': 'гр'},\n",
    "{\"ingridient_name\": 'томаты', 'quantity': 2, 'measure': 'шт'},\n",
    "{\"ingridient_name\": 'огурцы', 'quantity': 20, 'measure': 'гр'},\n",
    "{\"ingridient_name\": 'маслины', 'quantity': 10, 'measure': 'гр'},\n",
    "{\"ingridient_name\": 'оливковое масло', 'quantity': 20, 'measure': 'мл'},\n",
    "{\"ingridient_name\": 'салат', 'quantity': 10, 'measure': 'гр'},\n",
    "{\"ingridient_name\": 'перец', 'quantity': 20, 'measure': 'гр'}\n",
    "],\n",
    "\"пицца\": [\n",
    "{\"ingridient_name\": 'сыр', 'quantity': 20, 'measure': 'гр'},\n",
    "{\"ingridient_name\": 'колбаса', 'quantity': 30, 'measure': 'гр'},\n",
    "{\"ingridient_name\": 'бекон', 'quantity': 30, 'measure': 'гр'},\n",
    "{\"ingridient_name\": 'оливки', 'quantity': 10, 'measure': 'гр'},\n",
    "{\"ingridient_name\": 'томаты', 'quantity': 20, 'measure': 'гр'},\n",
    "{\"ingridient_name\": 'тесто', 'quantity': 100, 'measure': 'гр'},\n",
    "],\n",
    "\"лимонад\": [\n",
    "{\"ingridient_name\": 'лимон', 'quantity': 1, 'measure': 'шт'},\n",
    "{\"ingridient_name\": 'вода', 'quantity': 200, 'measure': 'мл'},\n",
    "{\"ingridient_name\": 'сахар', 'quantity': 10, 'measure': 'гр'},\n",
    "{\"ingridient_name\": 'лайм', 'quantity': 20, 'measure': 'гр'},\n",
    "\n",
    "]\n",
    "}\n",
    "\n",
    "# создадим пустой список для хранения всех словарей с ингридиентами\n",
    "ingrid = []\n",
    "\n",
    "# создадим пустой список для хранения уникальных ингридиентов\n",
    "ingrid_unik = []\n",
    "\n",
    "# создадим пустой список для хранения \n",
    "ingrid_spisok = []\n",
    "\n",
    "# заполним список для хранения всех словарей с ингридиентами\n",
    "for value in cook_book.values():\n",
    "    ingrid = ingrid + value\n",
    "    \n",
    "# заполним список для хранения уникальных ингридиентов\n",
    "for value in ingrid:\n",
    "    if value[\"ingridient_name\"] not in ingrid_unik:\n",
    "        ingrid_unik.append(value[\"ingridient_name\"])\n",
    "\n",
    "\n",
    "for val_un in ingrid_unik:\n",
    "    # переменная для хранения суммарного количества ингридиента\n",
    "    sum_quantity = 0\n",
    "    # переменная для хранения единицы измерения ингридиента \n",
    "    ed_izm = \"\"\n",
    "    \n",
    "    # цикл проходит по списку ингридиентов и выводит на экран ингридиент,суммарное количество ингридиента и единицу измерения\n",
    "    for val in ingrid:\n",
    "        if val['ingridient_name'] == val_un:\n",
    "            \n",
    "            ed_izm = val['measure']\n",
    "            sum_quantity = sum_quantity + val['quantity']\n",
    "            \n",
    "    print(val_un.capitalize(), \":\", \" \", 3*sum_quantity, \" \", ed_izm, sep=\"\")\n",
    "   \n"
   ]
  },
  {
   "cell_type": "code",
   "execution_count": null,
   "metadata": {},
   "outputs": [],
   "source": []
  }
 ],
 "metadata": {
  "kernelspec": {
   "display_name": "Python 3",
   "language": "python",
   "name": "python3"
  },
  "language_info": {
   "codemirror_mode": {
    "name": "ipython",
    "version": 3
   },
   "file_extension": ".py",
   "mimetype": "text/x-python",
   "name": "python",
   "nbconvert_exporter": "python",
   "pygments_lexer": "ipython3",
   "version": "3.8.5"
  }
 },
 "nbformat": 4,
 "nbformat_minor": 4
}
