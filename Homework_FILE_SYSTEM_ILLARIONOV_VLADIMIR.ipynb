{
 "cells": [
  {
   "cell_type": "code",
   "execution_count": 100,
   "metadata": {},
   "outputs": [],
   "source": [
    "import os\n",
    "import json\n",
    "\n",
    "f = open(\"purchase_log.txt\", encoding = \"utf-8\")\n",
    "\n",
    "content = f.readlines()\n",
    "\n",
    "# создадим пустой словарь\n",
    "purchases = {}\n",
    "\n",
    "for stroka in content:\n",
    "    stroka = stroka.strip()\n",
    "    # создадим из строки словарь\n",
    "    dict_intermed = json.loads(stroka)    \n",
    "    # добавим в словарь purchases\n",
    "    purchases[dict_intermed[\"user_id\"]] = dict_intermed[\"category\"]\n",
    "\n",
    "# удалим первое значение словаря\n",
    "del purchases[\"user_id\"]    \n"
   ]
  },
  {
   "cell_type": "code",
   "execution_count": 1,
   "metadata": {},
   "outputs": [
    {
     "ename": "FileNotFoundError",
     "evalue": "[Errno 2] No such file or directory: 'visit_log.csv'",
     "output_type": "error",
     "traceback": [
      "\u001b[1;31m---------------------------------------------------------------------------\u001b[0m",
      "\u001b[1;31mFileNotFoundError\u001b[0m                         Traceback (most recent call last)",
      "\u001b[1;32m<ipython-input-1-3cbf8aa8433f>\u001b[0m in \u001b[0;36m<module>\u001b[1;34m\u001b[0m\n\u001b[0;32m      2\u001b[0m \u001b[1;32mimport\u001b[0m \u001b[0mjson\u001b[0m\u001b[1;33m\u001b[0m\u001b[1;33m\u001b[0m\u001b[0m\n\u001b[0;32m      3\u001b[0m \u001b[1;33m\u001b[0m\u001b[0m\n\u001b[1;32m----> 4\u001b[1;33m \u001b[1;32mwith\u001b[0m \u001b[0mopen\u001b[0m\u001b[1;33m(\u001b[0m\u001b[1;34m\"visit_log.csv\"\u001b[0m\u001b[1;33m,\u001b[0m \u001b[0mencoding\u001b[0m \u001b[1;33m=\u001b[0m \u001b[1;34m\"utf-8\"\u001b[0m\u001b[1;33m)\u001b[0m \u001b[1;32mas\u001b[0m \u001b[0mfread\u001b[0m\u001b[1;33m:\u001b[0m\u001b[1;33m\u001b[0m\u001b[1;33m\u001b[0m\u001b[0m\n\u001b[0m\u001b[0;32m      5\u001b[0m     \u001b[1;32mwith\u001b[0m \u001b[0mopen\u001b[0m\u001b[1;33m(\u001b[0m\u001b[1;34m\"funnel.csv\"\u001b[0m\u001b[1;33m,\u001b[0m \u001b[1;34m'w'\u001b[0m\u001b[1;33m)\u001b[0m \u001b[1;32mas\u001b[0m \u001b[0mfwrite\u001b[0m\u001b[1;33m:\u001b[0m\u001b[1;33m\u001b[0m\u001b[1;33m\u001b[0m\u001b[0m\n\u001b[0;32m      6\u001b[0m         \u001b[1;31m# пройдемся построчно по файлу \"visit_log.csv\"\u001b[0m\u001b[1;33m\u001b[0m\u001b[1;33m\u001b[0m\u001b[1;33m\u001b[0m\u001b[0m\n",
      "\u001b[1;31mFileNotFoundError\u001b[0m: [Errno 2] No such file or directory: 'visit_log.csv'"
     ]
    }
   ],
   "source": [
    "import os\n",
    "import json\n",
    "\n",
    "with open(\"visit_log.csv\", encoding = \"utf-8\") as fread:\n",
    "    with open(\"funnel.csv\", 'w') as fwrite:\n",
    "        # пройдемся построчно по файлу \"visit_log.csv\"\n",
    "        for line in fread:\n",
    "            # создадим список из строки\n",
    "            line = line.strip().split(\",\")\n",
    "            # если первое значение из списка line есть в словаре purchases, тo...\n",
    "            if line[0] in purchases:\n",
    "                # ...создаем строку из user_id, source, а также с категорией покупки\n",
    "                stro = line[0].strip() + \" \" + line[1].strip() + \" \" + purchases[line[0]] + \"\\n\"\n",
    "                # запишем это значение в файл \"funnel.csv\"\n",
    "                fwrite.write(stro)\n",
    "                print(stro)\n",
    "                    "
   ]
  },
  {
   "cell_type": "code",
   "execution_count": null,
   "metadata": {},
   "outputs": [],
   "source": []
  }
 ],
 "metadata": {
  "kernelspec": {
   "display_name": "Python 3",
   "language": "python",
   "name": "python3"
  },
  "language_info": {
   "codemirror_mode": {
    "name": "ipython",
    "version": 3
   },
   "file_extension": ".py",
   "mimetype": "text/x-python",
   "name": "python",
   "nbconvert_exporter": "python",
   "pygments_lexer": "ipython3",
   "version": "3.8.5"
  }
 },
 "nbformat": 4,
 "nbformat_minor": 4
}
