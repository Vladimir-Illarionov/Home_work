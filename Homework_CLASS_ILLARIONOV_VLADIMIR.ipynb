{
 "cells": [
  {
   "cell_type": "code",
   "execution_count": 6,
   "metadata": {},
   "outputs": [
    {
     "name": "stdout",
     "output_type": "stream",
     "text": [
      "СДР (специальные права заимствования)\n"
     ]
    }
   ],
   "source": [
    "# ЗАДАНИЕ № 1\n",
    "\n",
    "import requests\n",
    "\n",
    "def exchange_rates(name, value):\n",
    "  \n",
    "    response = requests.get('https://www.cbr-xml-daily.ru/daily_json.js').json()['Valute']\n",
    "    \n",
    "    # переменная для хранения максимального значения\n",
    "    max_Value = 0\n",
    "    # переменная для хранения имени максимального значения\n",
    "    max_Name = \"\"\n",
    "    \n",
    "    for res in response:\n",
    "        if int(response[res][value]) > max_Value:\n",
    "            max_Value = int(response[res][value])\n",
    "            max_Name = response[res][name]\n",
    "    return max_Name\n",
    "        \n",
    "print(exchange_rates(\"Name\",\"Value\"))\n",
    "        \n"
   ]
  },
  {
   "cell_type": "code",
   "execution_count": 7,
   "metadata": {},
   "outputs": [
    {
     "name": "stdout",
     "output_type": "stream",
     "text": [
      "88.1736\n",
      "False\n",
      "0.7598000000000127\n",
      "True\n",
      "74.264\n",
      "False\n",
      "0.1634999999999991\n",
      "True\n"
     ]
    }
   ],
   "source": [
    "# ЗАДАНИЕ № 2\n",
    "\n",
    "class Rate:\n",
    "    def __init__(self, format_=\"value\"):\n",
    "        self.format = format_\n",
    "        self.ch_eur = True\n",
    "        self.ch_usd = True\n",
    "        self.ch_gbp = True\n",
    "    def exchange_rates(self):\n",
    "        self.r = requests.get('https://www.cbr-xml-daily.ru/daily_json.js')\n",
    "        return self.r.json()['Valute']\n",
    "        \n",
    "    def make_format(self, currency):\n",
    "        response = self.exchange_rates()\n",
    "        if currency in response:\n",
    "            if self.format == \"full\":\n",
    "                return response[currency]\n",
    "            if self.format == \"value\":\n",
    "                if self.dif:\n",
    "                    return response[currency]['Previous'] - response[currency]['Value']\n",
    "                else:\n",
    "                    return response[currency]['Value']  \n",
    "        return 'Error'\n",
    "    \n",
    "    def eur(self):\n",
    "        if self.ch_eur:\n",
    "            self.dif = False\n",
    "            self.ch_eur = False\n",
    "            return self.make_format(\"EUR\")\n",
    "        else:\n",
    "            self.dif = True\n",
    "            return self.make_format(\"EUR\")\n",
    "        \n",
    "    def usd(self):\n",
    "        if self.ch_usd:\n",
    "            self.dif = False\n",
    "            self.ch_usd = False\n",
    "            return self.make_format(\"USD\")\n",
    "        else:\n",
    "            self.dif = True\n",
    "            return self.make_format(\"USD\")\n",
    "        \n",
    "    def gbp(self):\n",
    "        if self.ch_gbp:\n",
    "            self.dif = False\n",
    "            self.ch_gbp = False\n",
    "            return self.make_format(\"GBP\")\n",
    "        else:\n",
    "            self.dif = True\n",
    "            return self.make_format(\"GBP\")\n",
    "        \n",
    "       \n",
    "f = Rate(format_ = 'value')\n",
    "\n",
    "print(f.eur())\n",
    "print(f.dif)\n",
    "print(f.eur())\n",
    "print(f.dif)\n",
    "print(f.usd())\n",
    "print(f.dif)\n",
    "print(f.usd())\n",
    "print(f.dif)"
   ]
  },
  {
   "cell_type": "code",
   "execution_count": 3,
   "metadata": {},
   "outputs": [
    {
     "name": "stdout",
     "output_type": "stream",
     "text": [
      "Петр 1\n",
      "Петр 2\n",
      "Петр 3\n",
      "Петр 4\n"
     ]
    }
   ],
   "source": [
    "# ЗАДАНИЕ № 3\n",
    "\n",
    "class Designer:\n",
    "    \n",
    "    def __init__(self, name, international_prize = 2):\n",
    "        self.name = name\n",
    "        self.prize = international_prize\n",
    "        self.score = 4\n",
    "        self.grade = 0\n",
    "        \n",
    "    def grade_up(self):\n",
    "        \n",
    "        ''' этот метод увеличивает грейд на единичку '''\n",
    "        \n",
    "        self.grade += 1\n",
    "     \n",
    "    def publish_grade(self):\n",
    "        \n",
    "        ''' этот метод выводит имя и грейд на экран '''\n",
    "        \n",
    "        print(self.name, self.grade)\n",
    "    \n",
    "  \n",
    "    def upgrade_grade_for_each_seven_score(self):\n",
    "        \n",
    "        ''' этот метод добавляет баллы и увеличивает грейд на единицу за каждые семь баллов'''\n",
    "        \n",
    "        self.score += 1\n",
    "        if self.score % 7 == 0:\n",
    "            self.grade_up()\n",
    "            return self.publish_grade()\n",
    "\n",
    "# создадим дизайнера \n",
    "designer_1 = Designer(\"Петр\")\n",
    "\n",
    "# добавим баллы\n",
    "for i in range(25):\n",
    "    designer_1.upgrade_grade_for_each_seven_score()\n",
    "\n",
    "        "
   ]
  },
  {
   "cell_type": "code",
   "execution_count": null,
   "metadata": {},
   "outputs": [],
   "source": []
  }
 ],
 "metadata": {
  "kernelspec": {
   "display_name": "Python 3",
   "language": "python",
   "name": "python3"
  },
  "language_info": {
   "codemirror_mode": {
    "name": "ipython",
    "version": 3
   },
   "file_extension": ".py",
   "mimetype": "text/x-python",
   "name": "python",
   "nbconvert_exporter": "python",
   "pygments_lexer": "ipython3",
   "version": "3.8.5"
  }
 },
 "nbformat": 4,
 "nbformat_minor": 4
}
