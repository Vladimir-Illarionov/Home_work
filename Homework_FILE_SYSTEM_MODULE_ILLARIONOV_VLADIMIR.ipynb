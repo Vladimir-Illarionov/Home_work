{
 "cells": [
  {
   "cell_type": "code",
   "execution_count": 2,
   "metadata": {},
   "outputs": [],
   "source": [
    "import os\n",
    "import json\n",
    "\n",
    "f = open(\"purchase_log.txt\", encoding = \"utf-8\")\n",
    "\n",
    "content = f.readlines()\n",
    "\n",
    "# создадим пустой словарь\n",
    "purchases = {}\n",
    "\n",
    "for stroka in content:\n",
    "    stroka = stroka.strip()\n",
    "    # создадим из строки словарь\n",
    "    dict_intermed = json.loads(stroka)    \n",
    "    # добавим в словарь purchases\n",
    "    purchases[dict_intermed[\"user_id\"]] = dict_intermed[\"category\"]\n",
    "\n",
    "# удалим первое значение словаря\n",
    "del purchases[\"user_id\"]    \n"
   ]
  },
  {
   "cell_type": "code",
   "execution_count": 3,
   "metadata": {},
   "outputs": [],
   "source": [
    "import os\n",
    "import json\n",
    "\n",
    "with open(\"visit_log.csv\", encoding = \"utf-8\") as fread:\n",
    "    with open(\"funnel.csv\", 'w') as fwrite:\n",
    "        # пройдемся построчно по файлу \"visit_log.csv\"\n",
    "        for line in fread:\n",
    "            # создадим список из строки\n",
    "            line = line.strip().split(\",\")\n",
    "            # если первое значение из списка line есть в словаре purchases, тo...\n",
    "            if line[0] in purchases:\n",
    "                # ...создаем строку из user_id, source, а также с категорией покупки\n",
    "                stro = line[0].strip() + \" \" + line[1].strip() + \" \" + purchases[line[0]] + \"\\n\"\n",
    "                # запишем это значение в файл \"funnel.csv\"\n",
    "                fwrite.write(stro)\n",
    "                #print(stro)\n",
    "                    "
   ]
  },
  {
   "cell_type": "code",
   "execution_count": null,
   "metadata": {},
   "outputs": [],
   "source": []
  }
 ],
 "metadata": {
  "kernelspec": {
   "display_name": "Python 3",
   "language": "python",
   "name": "python3"
  },
  "language_info": {
   "codemirror_mode": {
    "name": "ipython",
    "version": 3
   },
   "file_extension": ".py",
   "mimetype": "text/x-python",
   "name": "python",
   "nbconvert_exporter": "python",
   "pygments_lexer": "ipython3",
   "version": "3.8.5"
  }
 },
 "nbformat": 4,
 "nbformat_minor": 4
}
