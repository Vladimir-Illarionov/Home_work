{
 "cells": [
  {
   "cell_type": "code",
   "execution_count": 55,
   "id": "1b952225",
   "metadata": {},
   "outputs": [
    {
     "name": "stdout",
     "output_type": "stream",
     "text": [
      "[[-1  0  0]\n",
      " [ 0 -1  0]\n",
      " [ 0  0 -1]]\n",
      "[[-1  0  0]\n",
      " [ 0 -1  0]\n",
      " [ 0  0 -1]]\n",
      "[[1 0 0]\n",
      " [0 1 0]\n",
      " [0 0 1]]\n"
     ]
    }
   ],
   "source": [
    "#a)\n",
    "import numpy as np \n",
    "import matplotlib.pyplot as plt\n",
    "\n",
    "# Диагональная, ортогональная, но не единичная(!)\n",
    "matr_diag_orto_not_edinich = np.array([[-1,0,0],\n",
    "                                      [0,-1,0],\n",
    "                                      [0,0,-1]])                          \n",
    "\n",
    "matr_trans = matr_diag_orto_not_edinich.transpose()\n",
    "\n",
    "print(matr_diag_orto_not_edinich)\n",
    "print(matr_trans)\n",
    "print(matr_trans.dot(matr_diag_orto_not_edinich))\n"
   ]
  },
  {
   "cell_type": "code",
   "execution_count": 56,
   "id": "dacec177",
   "metadata": {},
   "outputs": [],
   "source": [
    "# b)\n",
    "# Верхнетреугольная, ортогональная - не смог найти, есть ли такая, прошу обьяснить?"
   ]
  },
  {
   "cell_type": "code",
   "execution_count": 46,
   "id": "bfe126fe",
   "metadata": {},
   "outputs": [],
   "source": [
    "# c)\n",
    "# Нижнетреугольная, ортогональная - не смог найти, есть ли такая, прошу обьяснить?"
   ]
  },
  {
   "cell_type": "code",
   "execution_count": 57,
   "id": "5d36fc40",
   "metadata": {},
   "outputs": [
    {
     "name": "stdout",
     "output_type": "stream",
     "text": [
      "[[ 0.8660254  0.5      ]\n",
      " [-0.5        0.8660254]]\n",
      "[[ 0.8660254 -0.5      ]\n",
      " [ 0.5        0.8660254]]\n",
      "[[ 1.00000000e+00 -7.43708407e-18]\n",
      " [-7.43708407e-18  1.00000000e+00]]\n",
      "det =  1.0\n"
     ]
    }
   ],
   "source": [
    "# d)\n",
    "# Матрица, у которой определитель = 1, и все элементы не равны 0\n",
    "matr = np.array([[np.cos(np.pi/6),np.sin(np.pi/6)],\n",
    "                [-np.sin(np.pi/6),np.cos(np.pi/6)]])                         \n",
    "\n",
    "matr_trans = matr.transpose()\n",
    "\n",
    "print(matr)\n",
    "print(matr_trans)\n",
    "print(matr_trans.dot(matr))\n",
    "print(\"det = \",np.linalg.det(matr))\n"
   ]
  },
  {
   "cell_type": "code",
   "execution_count": 54,
   "id": "c740959c",
   "metadata": {},
   "outputs": [
    {
     "name": "stdout",
     "output_type": "stream",
     "text": [
      "собственные значения -  [1. 4.]\n",
      "собственные вектора -  [[-0.89442719 -0.70710678]\n",
      " [ 0.4472136  -0.70710678]]\n"
     ]
    }
   ],
   "source": [
    "# Найдите собственные значения и собственные вектора матриц:\n",
    "\n",
    "m = np.array([[2, 2],\n",
    "              [1, 3]])\n",
    "\n",
    "l, v = np.linalg.eig(m)\n",
    "print(\"собственные значения - \", l)\n",
    "print(\"собственные вектора - \", v)"
   ]
  }
 ],
 "metadata": {
  "kernelspec": {
   "display_name": "Python 3",
   "language": "python",
   "name": "python3"
  },
  "language_info": {
   "codemirror_mode": {
    "name": "ipython",
    "version": 3
   },
   "file_extension": ".py",
   "mimetype": "text/x-python",
   "name": "python",
   "nbconvert_exporter": "python",
   "pygments_lexer": "ipython3",
   "version": "3.8.8"
  }
 },
 "nbformat": 4,
 "nbformat_minor": 5
}
