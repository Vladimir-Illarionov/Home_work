{
 "cells": [
  {
   "cell_type": "code",
   "execution_count": 9,
   "id": "a00bf5a0",
   "metadata": {},
   "outputs": [
    {
     "name": "stdout",
     "output_type": "stream",
     "text": [
      "Вероятность выпадения простого числа орлов -  0.3499755859375\n"
     ]
    }
   ],
   "source": [
    "# Уровень 0\n",
    "# Задание 1\n",
    "import numpy as np\n",
    "import math\n",
    "import seaborn as sns\n",
    "\n",
    "# простые числа 2 3 5 7 11 13\n",
    "K =[2,3,5,7,11,13]\n",
    "\n",
    "n=15      # количество бросков\n",
    "ver = 0.5 # вероятность выпадения орла\n",
    "full_probability = 0 # полная вероятность\n",
    "\n",
    "# найдем полную вероятность \n",
    "for k in K:\n",
    "    # формула бернулли\n",
    "    full_probability = full_probability + (ver**n) * (math.factorial(n)/(math.factorial(k)*math.factorial(n-k)))\n",
    "\n",
    "print(\"Вероятность выпадения простого числа орлов - \", full_probability)"
   ]
  },
  {
   "cell_type": "code",
   "execution_count": 4,
   "id": "c5f57fc5",
   "metadata": {},
   "outputs": [
    {
     "name": "stdout",
     "output_type": "stream",
     "text": [
      "49.4342\n",
      "840.7460703600001\n",
      "49.0\n"
     ]
    },
    {
     "data": {
      "image/png": "[encoded data removed]",
      "text/plain": [
       "<Figure size 360x360 with 1 Axes>"
      ]
     },
     "metadata": {
      "needs_background": "light"
     },
     "output_type": "display_data"
    }
   ],
   "source": [
    "# Задание 2\n",
    "df = np.random.randint(0,100,10000)\n",
    " \n",
    "ax = sns.displot(df,\n",
    "                 kde=True,\n",
    "                 bins=20)\n",
    "\n",
    "print(np.mean(df))\n",
    "print(np.var(df))\n",
    "print(np.median(df))"
   ]
  },
  {
   "cell_type": "code",
   "execution_count": 10,
   "id": "b47cd484",
   "metadata": {},
   "outputs": [],
   "source": [
    "# Уровень 1\n",
    "# Задание 3\n",
    "# О - орел\n",
    "# Р - решка\n",
    "# всевозможные исходы\n",
    "# OOO\n",
    "# РРР\n",
    "# РОО\n",
    "# ОРО\n",
    "# ООР\n",
    "# РРО\n",
    "# РОР\n",
    "# ОРР\n",
    "# A1 - монеты 1 и 2 упали одной и той же стороной;\n",
    "# A2 - монеты 2 и 3 упали одной и той же стороной;\n",
    "# A3 - монеты 1 и 3 упали одной и той же стороной.\n",
    "\n",
    "# вероятность появления событий \n",
    "# P(A1) = 1/2  # (OOO,РРР,РРО,ООР)\n",
    "# P(A2) = 1/2  # (OOO,РРР,РОО,ОРР)\n",
    "# P(A3) = 1/2  # (ООО,РРР,ОРО,РОР)\n",
    "\n",
    "# вероятность того что монеты 1 и 2 упали одной и той же стороной и монеты 2 и 3 упали одной и той же стороной (ООО, РРР)\n",
    "# P(A1,A2)=2/8=1/4=P(A1)*P(A2) = 1/2*1/2=1/4 из данного равенства следует, что события попарно независимы\n",
    "# аналогично для P(A1,A3) и P(A2,A3) \n",
    "\n",
    "# вероятность того что монеты 1 и 2 упали одной и той же стороной и монеты 2 и 3 упали одной и той же стороной\n",
    "# и монеты 1 и 3 упали одной и той же стороной (ООО, РРР)\n",
    "# P(A1,A2,A3) = 2/8=1/4  не равна  P(A1)*P(A2)*P(A3) = 1/2*1/2*1/2 = 1/8 из данного неравенства следует,  что\n",
    "# события A1,A2,A3 не являются независимыми в совокупности "
   ]
  },
  {
   "cell_type": "code",
   "execution_count": 8,
   "id": "f028a161",
   "metadata": {},
   "outputs": [
    {
     "name": "stdout",
     "output_type": "stream",
     "text": [
      "Полная вероятность = 0.135\n"
     ]
    }
   ],
   "source": [
    "# Задание 4\n",
    "P = 0.2*0.1 + 0.3*0.05 + 0.5*0.2\n",
    "print(\"Полная вероятность =\",P)"
   ]
  }
 ],
 "metadata": {
  "kernelspec": {
   "display_name": "Python 3",
   "language": "python",
   "name": "python3"
  },
  "language_info": {
   "codemirror_mode": {
    "name": "ipython",
    "version": 3
   },
   "file_extension": ".py",
   "mimetype": "text/x-python",
   "name": "python",
   "nbconvert_exporter": "python",
   "pygments_lexer": "ipython3",
   "version": "3.8.8"
  }
 },
 "nbformat": 4,
 "nbformat_minor": 5
}
